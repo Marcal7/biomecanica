{
 "cells": [
  {
   "cell_type": "markdown",
   "id": "5f2807c00a03038a",
   "metadata": {},
   "source": [
    "<h1> Trabalho Biomecânica - Theo Pavan </h1>\n",
    "<h3> ------------------------------------------------ </h3>"
   ]
  },
  {
   "metadata": {},
   "cell_type": "markdown",
   "source": "Função para mostrar imagens (plot)",
   "id": "b501d25d56fd5f1b"
  },
  {
   "metadata": {},
   "cell_type": "code",
   "execution_count": null,
   "source": [
    "from matplotlib import pyplot as plt\n",
    "\n",
    "def showSingleImage(img, title, size, slice_index=74):\n",
    "    fig, axis = plt.subplots(figsize=size)\n",
    "    if img.ndim == 3:\n",
    "        axis.imshow(img[:, :, slice_index], cmap='gray')\n",
    "    else:\n",
    "        axis.imshow(img, cmap='gray')\n",
    "    axis.set_title(title, fontdict={'fontsize': 22, 'fontweight': 'medium'})\n",
    "    plt.show()\n",
    "def showMultipleImages(imgsArray, titlesArray, size, x, y, slice_index=74):\n",
    "    if(x < 1 or y < 1):\n",
    "        print(\"ERRO: X e Y não podem ser zero ou abaixo de zero!\")\n",
    "        return\n",
    "    elif(x == 1 and y == 1):\n",
    "        showSingleImage(imgsArray[0], titlesArray[0], size, slice_index)\n",
    "    else:\n",
    "        fig, axes = plt.subplots(y, x, figsize=size)\n",
    "        axes = axes.flatten() if isinstance(axes, np.ndarray) else [axes]\n",
    "        for i, (img, title) in enumerate(zip(imgsArray, titlesArray)):\n",
    "            if i < len(axes):\n",
    "                if img.ndim == 3:\n",
    "                    axes[i].imshow(img[:, :, slice_index], cmap='gray')\n",
    "                else:\n",
    "                    axes[i].imshow(img, cmap='gray')\n",
    "                axes[i].set_title(title, fontdict={'fontsize': 18, 'fontweight': 'medium'}, pad=10)\n",
    "                axes[i].set_anchor('NW')\n",
    "            else:\n",
    "                break\n",
    "    plt.tight_layout()\n",
    "    plt.show()\n",
    "\n",
    "'''def writeMultipleImages(imgsArray, titlesArray, name):\n",
    "    index = 0\n",
    "    for img, title in zip(imgsArray, titlesArray):\n",
    "        index += 1\n",
    "        cv2.imwrite(f'{name}_{index}_{title}.tif', img)'''"
   ],
   "id": "91dab5ba42fa1a45",
   "outputs": []
  },
  {
   "cell_type": "markdown",
   "id": "c9f0c81bfbda9932",
   "metadata": {},
   "source": [
    "Função para ler arquivo (.mat / xlsx)"
   ]
  },
  {
   "cell_type": "code",
   "id": "initial_id",
   "metadata": {
    "collapsed": true,
    "ExecuteTime": {
     "end_time": "2024-10-29T21:41:45.365438Z",
     "start_time": "2024-10-29T21:41:45.359860Z"
    }
   },
   "source": [
    "import scipy.io\n",
    "import matplotlib.pyplot as plt\n",
    "import numpy as np\n",
    "import pandas as pd\n",
    "\n",
    "def ler(imgs, slice_index=74):\n",
    "    print(\"ler() function called with slice_index:\", slice_index)\n",
    "    disp_maps = []\n",
    "    for img in imgs:\n",
    "        mat_data = scipy.io.loadmat(img)\n",
    "        disp_map = mat_data['disp_map']\n",
    "        disp_maps.append(disp_map)\n",
    "    \n",
    "    showMultipleImages(disp_maps, imgs, (12, 8), 1, 3, slice_index)\n",
    "\n",
    "\n",
    "def xlsx(arquivo):\n",
    "    df = pd.read_excel(arquivo, engine='openpyxl')\n",
    "    # print(df.head())\n",
    "    return df"
   ],
   "execution_count": 16,
   "outputs": []
  },
  {
   "cell_type": "markdown",
   "id": "f3da0dfb5fa26328",
   "metadata": {},
   "source": [
    "Função plot módulo de young"
   ]
  },
  {
   "cell_type": "code",
   "id": "3bebde4d86536672",
   "metadata": {
    "ExecuteTime": {
     "end_time": "2024-10-29T21:41:14.758155Z",
     "start_time": "2024-10-29T21:41:14.749926Z"
    }
   },
   "source": [
    "import pandas as pd\n",
    "import matplotlib.pyplot as plt\n",
    "from scipy.stats import linregress\n",
    "\n",
    "\n",
    "def plotDataFrame(df):\n",
    "    phantoms = {\n",
    "        \"P_1\": (0, 1),  # Índices para P_1\n",
    "        \"P_2\": (3, 4),  # Índices para P_2\n",
    "        \"P_3\": (6, 7),  # Índices para P_3\n",
    "    }\n",
    "\n",
    "    # Dicionário para armazenar os módulos de Young\n",
    "    modulos_young = {}\n",
    "    \n",
    "    # Create a single figure\n",
    "    plt.figure(figsize=(10, 6))\n",
    "    \n",
    "    # Loop sobre cada phantom\n",
    "    for nome, (c0, c1) in phantoms.items():\n",
    "        strain = df.iloc[:, c0]\n",
    "        stress = df.iloc[:, c1]\n",
    "\n",
    "        # Converter para valores numéricos\n",
    "        strain = pd.to_numeric(strain, errors='coerce')\n",
    "        stress = pd.to_numeric(stress, errors='coerce')\n",
    "\n",
    "        # Remover linhas com valores não numéricos\n",
    "        df_plot = pd.DataFrame({'Strain': strain, 'Stress': stress}).dropna()\n",
    "\n",
    "        # Realizar o ajuste linear\n",
    "        slope, intercept, r_value, p_value, std_err = linregress(df_plot['Strain'], df_plot['Stress'])\n",
    "\n",
    "        # O módulo de Young é dado pela inclinação do ajuste linear\n",
    "        modulos_young[nome] = slope\n",
    "\n",
    "        # Plotar os dados e o ajuste\n",
    "        plt.plot(df_plot['Strain'], df_plot['Stress'], 'o', label=f'{nome} Dados')\n",
    "        plt.plot(df_plot['Strain'], slope * df_plot['Strain'] + intercept, \n",
    "                label=f'{nome} Ajuste', linestyle='--')\n",
    "\n",
    "    # Configurar o gráfico\n",
    "    plt.xlabel('Strain')\n",
    "    plt.ylabel('Stress')\n",
    "    plt.title('Módulo de Young')\n",
    "    plt.legend()\n",
    "    plt.grid(True)\n",
    "    plt.show()\n",
    "\n",
    "    # Exibir os módulos de Young calculados\n",
    "    for nome, modulo in modulos_young.items():\n",
    "        print(f'Módulo de Young para {nome}: {modulo:.2f} Pa')\n",
    "\n",
    "    return modulos_young"
   ],
   "execution_count": 11,
   "outputs": []
  },
  {
   "cell_type": "markdown",
   "id": "e12547a1faa25e32",
   "metadata": {},
   "source": [
    "Função calcular velocidade e módulo de young .mat"
   ]
  },
  {
   "cell_type": "code",
   "id": "1238aacbc95ff01e",
   "metadata": {
    "ExecuteTime": {
     "end_time": "2024-10-29T21:41:17.284066Z",
     "start_time": "2024-10-29T21:41:17.276958Z"
    }
   },
   "source": [
    "import scipy.io\n",
    "import numpy as np\n",
    "\n",
    "\n",
    "def calcular_velocidade_media(img_path, dist, densidade=900):\n",
    "    mat_data = scipy.io.loadmat(img_path)\n",
    "    disp_map = mat_data['disp_map']\n",
    "    \n",
    "    # Parâmetros\n",
    "    taxa_amostragem = 10000  # frames por segundo\n",
    "    dt = 1 / taxa_amostragem  # intervalo de tempo em segundos\n",
    "    \n",
    "    velocidades = []\n",
    "    \n",
    "    # Calcular a velocidade para cada coluna\n",
    "    for col in range(disp_map.shape[1]):\n",
    "        if disp_map.ndim == 3:\n",
    "            t_peak = np.argmax(np.abs(disp_map[:, col, :])) * dt\n",
    "        else:\n",
    "            t_peak = np.argmax(np.abs(disp_map[:, col])) * dt\n",
    "        \n",
    "        if t_peak > 0:\n",
    "            velocidade = dist / t_peak\n",
    "            velocidades.append(velocidade)\n",
    "\n",
    "    if not velocidades:\n",
    "        return None, None, None\n",
    "\n",
    "    # Calcular a velocidade média\n",
    "    velocidade_media = np.mean(velocidades)\n",
    "    \n",
    "    # Calcular módulo de Young\n",
    "    modulo_young = densidade * (velocidade_media ** 2)\n",
    "    \n",
    "    # Calcular módulo de cisalhamento\n",
    "    modulo_cisalhamento = modulo_young / 3\n",
    "    \n",
    "    return velocidade_media, modulo_cisalhamento, modulo_young"
   ],
   "execution_count": 12,
   "outputs": []
  },
  {
   "cell_type": "markdown",
   "id": "73f97a12",
   "metadata": {},
   "source": [
    "Função para gerar Graficos"
   ]
  },
  {
   "cell_type": "code",
   "id": "23d61b25",
   "metadata": {
    "ExecuteTime": {
     "end_time": "2024-10-29T21:42:42.400908Z",
     "start_time": "2024-10-29T21:42:42.392422Z"
    }
   },
   "source": [
    "def plot_resultados(imgs, resultados):\n",
    "    # Extrair apenas o nome do phantom do caminho completo do arquivo\n",
    "    phantoms = []\n",
    "    for img in imgs:\n",
    "        nome = img.split('/')[-1]  # Pega o último elemento após dividir pelo '/'\n",
    "        nome = nome.split('\\\\')[-1]  # Pega o último elemento após dividir pelo '\\'\n",
    "        nome = nome.replace('SRF-SWE-Phantom_', '').replace('.mat', '')  # Remove prefixo e extensão\n",
    "        phantoms.append(nome)\n",
    "\n",
    "    # Separar os resultados em listas\n",
    "    velocidades = []\n",
    "    young_modulus = []\n",
    "    for res in resultados:\n",
    "        if res[0] is not None:  # Verifica se os resultados são válidos\n",
    "            velocidades.append(res[0])\n",
    "            young_modulus.append(res[2]/1000)  # Convertendo para kPa\n",
    "\n",
    "    # Criar o plot apenas se houver dados válidos\n",
    "    if velocidades and young_modulus:\n",
    "        fig, (ax1, ax2) = plt.subplots(1, 2, figsize=(12, 5))\n",
    "        \n",
    "        # Plot velocidades\n",
    "        bars1 = ax1.bar(phantoms, velocidades)\n",
    "        ax1.set_ylabel('Velocidade (m/s)')\n",
    "        ax1.set_title('Velocidade Média de Cisalhamento')\n",
    "        # Adicionar valores sobre as barras\n",
    "        for bar in bars1:\n",
    "            height = bar.get_height()\n",
    "            ax1.text(bar.get_x() + bar.get_width()/2., height,\n",
    "                    f'{height:.2f}',\n",
    "                    ha='center', va='bottom')\n",
    "        \n",
    "        # Plot módulo de Young\n",
    "        bars2 = ax2.bar(phantoms, young_modulus)\n",
    "        ax2.set_ylabel('Módulo de Young (kPa)')\n",
    "        ax2.set_title('Módulo de Young')\n",
    "        # Adicionar valores sobre as barras\n",
    "        for bar in bars2:\n",
    "            height = bar.get_height()\n",
    "            ax2.text(bar.get_x() + bar.get_width()/2., height,\n",
    "                    f'{height:.2f}',\n",
    "                    ha='center', va='bottom')\n",
    "\n",
    "        plt.tight_layout()\n",
    "        plt.show()\n",
    "    else:\n",
    "        print(\"Não há dados válidos para plotar\")"
   ],
   "execution_count": 18,
   "outputs": []
  },
  {
   "cell_type": "markdown",
   "id": "98e03cebd543d255",
   "metadata": {},
   "source": [
    "<h3> MAIN </h3>"
   ]
  },
  {
   "cell_type": "code",
   "id": "c090e3e6c21883c2",
   "metadata": {
    "ExecuteTime": {
     "end_time": "2024-10-29T21:42:46.176925Z",
     "start_time": "2024-10-29T21:42:44.827180Z"
    }
   },
   "source": [
    "def imagens(imgs, slice_index=74):\n",
    "    ler(imgs, slice_index)\n",
    "    return None\n",
    "\n",
    "\n",
    "# Main code\n",
    "# Definir os caminhos das imagens\n",
    "imgs = [\n",
    "    'SRF-SWE-Phantom_P_A.mat',\n",
    "    'SRF-SWE-Phantom_P_B.mat',\n",
    "    'SRF-SWE-Phantom_P_C.mat'\n",
    "]\n",
    "\n",
    "# Exibir as imagens\n",
    "imagens(imgs, slice_index=74)\n",
    "\n",
    "# Calcular velocidades e módulos de Young\n",
    "dist = 0.1  # distância em metros\n",
    "densidade = 900  # densidade em kg/m³\n",
    "resultados = []\n",
    "\n",
    "for img in imgs:\n",
    "    velocidade_media, modulo_cisalhamento, modulo_young = calcular_velocidade_media(img, dist, densidade)\n",
    "    resultados.append((velocidade_media, modulo_cisalhamento, modulo_young))\n",
    "    print(f\"Resultados para {img}:\")\n",
    "    print(f\"Velocidade média: {velocidade_media:.2f} m/s\")\n",
    "    print(f\"Módulo de cisalhamento: {modulo_cisalhamento:.2f} Pa\")\n",
    "    print(f\"Módulo de Young: {modulo_young:.2f} Pa\")\n",
    "    print()\n",
    "\n",
    "# Plotar os resultados\n",
    "plot_resultados(imgs, resultados)"
   ],
   "execution_count": 19,
   "outputs": []
  },
  {
   "cell_type": "code",
   "execution_count": 88,
   "id": "83d298e13573052e",
   "metadata": {
    "ExecuteTime": {
     "end_time": "2024-10-24T18:24:46.509546Z",
     "start_time": "2024-10-24T18:24:46.196762Z"
    }
   },
   "source": [
    "def planilha(pl):\n",
    "    return pd.read_excel(pl, engine='openpyxl')\n",
    "\n",
    "# Usage\n",
    "pl = 'Tensão deformação.xlsx'\n",
    "df = planilha(pl)\n",
    "modulos = plotDataFrame(df)"
   ],
   "outputs": []
  },
  {
   "metadata": {
    "ExecuteTime": {
     "end_time": "2024-10-29T23:57:09.224748Z",
     "start_time": "2024-10-29T23:57:08.796616Z"
    }
   },
   "cell_type": "code",
   "source": [
    "import numpy as np\n",
    "import scipy.io\n",
    "\n",
    "# Parâmetros\n",
    "dt = 0.0001  # Intervalo de tempo entre frames (s)\n",
    "dx = 0.2977  # Resolução lateral (mm)\n",
    "densidade = 900  # Densidade do material (kg/m³)\n",
    "\n",
    "# Função para calcular a velocidade da onda de cisalhamento usando o tempo ao pico\n",
    "def calcular_velocidade_onda_tempo_ao_pico(disp_map, dt, dx):\n",
    "    num_frames = disp_map.shape[2]\n",
    "    tempo_pico_por_coluna = np.zeros(disp_map.shape[1])\n",
    "\n",
    "    for coluna in range(disp_map.shape[1]):\n",
    "        deslocamento_temporal = disp_map[:, coluna, :]\n",
    "        media_deslocamento_temporal = deslocamento_temporal.mean(axis=0)\n",
    "        frame_pico = np.argmax(media_deslocamento_temporal)\n",
    "        tempo_pico_por_coluna[coluna] = frame_pico * dt\n",
    "\n",
    "    posicao_inicial = 0\n",
    "    posicao_final = len(tempo_pico_por_coluna) - 1\n",
    "    distancia_total = (posicao_final - posicao_inicial) * dx\n",
    "    tempo_total = tempo_pico_por_coluna[posicao_final] - tempo_pico_por_coluna[posicao_inicial]\n",
    "    velocidade_onda = distancia_total / tempo_total\n",
    "\n",
    "    return velocidade_onda\n",
    "\n",
    "# Função para calcular o módulo de Young a partir da velocidade da onda de cisalhamento\n",
    "def calcular_modulo_de_young(velocidade_onda, densidade):\n",
    "    velocidade_onda_m_s = velocidade_onda / 1000.0\n",
    "    modulo_de_young = 3 * densidade * (velocidade_onda_m_s ** 2)\n",
    "    return modulo_de_young\n",
    "\n",
    "# Lista de caminhos para os arquivos dos phantoms\n",
    "file_paths = [\n",
    "    \"SRF-SWE-Phantom_P_A.mat\",\n",
    "    \"SRF-SWE-Phantom_P_B.mat\",\n",
    "    \"SRF-SWE-Phantom_P_C.mat\"\n",
    "]\n",
    "\n",
    "# Calcula e armazena os resultados para cada phantom\n",
    "resultados = []\n",
    "\n",
    "for file_path in file_paths:\n",
    "    mat_data = scipy.io.loadmat(file_path)\n",
    "    disp_map = mat_data['disp_map']\n",
    "\n",
    "    velocidade_onda = calcular_velocidade_onda_tempo_ao_pico(disp_map, dt, dx)\n",
    "    modulo_de_young = calcular_modulo_de_young(velocidade_onda, densidade)\n",
    "\n",
    "    resultados.append({\n",
    "        \"file_path\": file_path,\n",
    "        \"velocidade_onda\": velocidade_onda,\n",
    "        \"modulo_de_young\": modulo_de_young\n",
    "    })\n",
    "\n",
    "# Exibe os resultados\n",
    "for i, resultado in enumerate(resultados, 1):\n",
    "    print(f\"Phantom {i}:\")\n",
    "    print(f\"  Velocidade da onda de cisalhamento: {resultado['velocidade_onda']:.2f} mm/s\")\n",
    "    print(f\"  Módulo de Young: {resultado['modulo_de_young']:.2f} Pa\\n\")\n"
   ],
   "id": "7e0f315fb60a31a0",
   "execution_count": 27,
   "outputs": []
  },
  {
   "metadata": {
    "ExecuteTime": {
     "end_time": "2024-10-29T23:54:42.107051Z",
     "start_time": "2024-10-29T23:54:42.104654Z"
    }
   },
   "cell_type": "code",
   "source": "",
   "id": "630eea842514a479",
   "execution_count": 23,
   "outputs": []
  },
  {
   "metadata": {},
   "cell_type": "code",
   "execution_count": null,
   "source": "",
   "id": "2ec64ddcfb3a22f",
   "outputs": []
  }
 ],
 "metadata": {
  "kernelspec": {
   "display_name": "Python 3",
   "language": "python",
   "name": "python3"
  },
  "language_info": {
   "codemirror_mode": {
    "name": "ipython",
    "version": 3
   },
   "file_extension": ".py",
   "mimetype": "text/x-python",
   "name": "python",
   "nbconvert_exporter": "python",
   "pygments_lexer": "ipython3",
   "version": "3.12.6"
  }
 },
 "nbformat": 4,
 "nbformat_minor": 5
}
